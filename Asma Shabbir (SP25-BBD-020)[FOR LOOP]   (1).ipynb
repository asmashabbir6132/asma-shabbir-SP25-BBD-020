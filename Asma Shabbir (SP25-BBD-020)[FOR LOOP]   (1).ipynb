{
 "cells": [
  {
   "cell_type": "code",
   "execution_count": 1,
   "id": "70a7a1cc-caaf-4b71-ac22-9d4a4fd484d7",
   "metadata": {},
   "outputs": [
    {
     "name": "stdout",
     "output_type": "stream",
     "text": [
      "2\n",
      "4\n",
      "6\n",
      "8\n",
      "10\n",
      "12\n",
      "14\n",
      "16\n",
      "18\n",
      "20\n"
     ]
    }
   ],
   "source": [
    "# Q1.write for loop to print even numbers\n",
    "for i in range(2,21,2):\n",
    "    print(i)"
   ]
  },
  {
   "cell_type": "code",
   "execution_count": 1,
   "id": "ee0d6485-c8b9-412a-a987-b1c76a17ca7e",
   "metadata": {},
   "outputs": [
    {
     "name": "stdout",
     "output_type": "stream",
     "text": [
      "ASMA\n",
      "AYESHA\n",
      "QURAT\n",
      "AYMAN\n",
      "FATIMA\n"
     ]
    }
   ],
   "source": [
    "# Q2.creating a list of names and use a for loop to print each name in uppercase.\n",
    "names=['Asma','Ayesha','Qurat','Ayman','Fatima']\n",
    "for name in names:\n",
    "    print(name.upper())"
   ]
  },
  {
   "cell_type": "code",
   "execution_count": 8,
   "id": "a7e1f2bf-5374-4c38-bd55-46edf364cdd2",
   "metadata": {},
   "outputs": [
    {
     "name": "stdout",
     "output_type": "stream",
     "text": [
      "10\n",
      "9\n",
      "8\n",
      "7\n",
      "6\n",
      "5\n",
      "4\n",
      "3\n",
      "2\n",
      "1\n"
     ]
    }
   ],
   "source": [
    "# Q3.using a for loop with range() to print numbers from 10 to 1 in reverse order.\n",
    "for i in range(10,0,-1):\n",
    "    print(i)"
   ]
  },
  {
   "cell_type": "code",
   "execution_count": 1,
   "id": "a99b09e0-8d30-452c-aa88-97a016a025ea",
   "metadata": {},
   "outputs": [
    {
     "name": "stdout",
     "output_type": "stream",
     "text": [
      "3\n",
      "6\n",
      "9\n",
      "12\n",
      "15\n",
      "18\n"
     ]
    }
   ],
   "source": [
    "# Q4.iterating through a list of integers and print only the numbers that are divisible by 3.\n",
    "numbers=[1,2,3,4,5,6,7,8,9,10,11,12,13,14,15,16,17,18,19,20]\n",
    "for num in numbers:\n",
    "    if num % 3 == 0:\n",
    "        print(num)\n",
    "    "
   ]
  },
  {
   "cell_type": "code",
   "execution_count": 17,
   "id": "f86c3673-4383-4e6c-b5a4-4b3367f5ca63",
   "metadata": {},
   "outputs": [
    {
     "name": "stdout",
     "output_type": "stream",
     "text": [
      "1\n",
      "4\n",
      "9\n",
      "16\n",
      "25\n",
      "36\n",
      "49\n",
      "64\n",
      "81\n",
      "100\n"
     ]
    }
   ],
   "source": [
    "# Q5.writing a loop that prints the squares of numbers from 1 to 10.\n",
    "for i in range(1,11):\n",
    "    print(i**2)\n",
    "\n"
   ]
  },
  {
   "cell_type": "code",
   "execution_count": 4,
   "id": "c8c74532-c5dc-46c9-a12e-f15d27deac40",
   "metadata": {},
   "outputs": [
    {
     "name": "stdout",
     "output_type": "stream",
     "text": [
      "[32.0]\n",
      "[32.0, 86.0]\n",
      "[32.0, 86.0, 116.6]\n",
      "[32.0, 86.0, 116.6, 392.0]\n",
      "[32.0, 86.0, 116.6, 392.0, -4.0]\n"
     ]
    }
   ],
   "source": [
    "# Q6.given a list of temperatures in Celsius, use a for loop to convert each to Fahrenheit.\n",
    "celsius_temps = [0, 30, 47, 200, -20]\n",
    "fahrenheit_temps=[]\n",
    "for c in celsius_temps:\n",
    "    f = c * 9/5 + 32\n",
    "    fahrenheit_temps.append(f)\n",
    "    print(fahrenheit_temps)"
   ]
  },
  {
   "cell_type": "code",
   "execution_count": 31,
   "id": "c972fff2-2393-4206-b307-52a0151822b1",
   "metadata": {},
   "outputs": [
    {
     "name": "stdout",
     "output_type": "stream",
     "text": [
      "5 x 1= 5\n",
      "5 x 2= 10\n",
      "5 x 3= 15\n",
      "5 x 4= 20\n",
      "5 x 5= 25\n",
      "5 x 6= 30\n",
      "5 x 7= 35\n",
      "5 x 8= 40\n",
      "5 x 9= 45\n",
      "5 x 10= 50\n"
     ]
    }
   ],
   "source": [
    "# Q7.creating a for loop that prints the multiplication table of 5.\n",
    "number=5\n",
    "for i in range(1,11):\n",
    "    result= number * i\n",
    "    print(f\"{number} x {i}= {result}\")"
   ]
  },
  {
   "cell_type": "code",
   "execution_count": 26,
   "id": "c8df6b2a-c1d5-44ed-ae44-992eafccfc00",
   "metadata": {},
   "outputs": [
    {
     "name": "stdout",
     "output_type": "stream",
     "text": [
      "The sum of all numbers in a list is 1\n",
      "The sum of all numbers in a list is 3\n",
      "The sum of all numbers in a list is 6\n",
      "The sum of all numbers in a list is 10\n",
      "The sum of all numbers in a list is 15\n"
     ]
    }
   ],
   "source": [
    "# Q8. writing a program to find the sum of all numbers in a list using a for loop.\n",
    "numbers=[1,2,3,4,5]\n",
    "total_sum=0\n",
    "for num in numbers:\n",
    "    total_sum+=num\n",
    "    print(f\"The sum of all numbers in a list is\",total_sum)"
   ]
  },
  {
   "cell_type": "code",
   "execution_count": 3,
   "id": "66459b3c-ec74-4869-87cd-fd071e8c9240",
   "metadata": {},
   "outputs": [
    {
     "name": "stdout",
     "output_type": "stream",
     "text": [
      "H\n",
      "E\n",
      "L\n",
      "L\n",
      "O\n",
      " \n",
      "F\n",
      "A\n",
      "T\n",
      "I\n",
      "M\n",
      "A\n"
     ]
    }
   ],
   "source": [
    "# Q9. using a for loop to iterate through a string and print each character separately.\n",
    "string= \"HELLO FATIMA\"\n",
    "#Using for loop to print each character separatly\n",
    "for char in string:\n",
    "    print(char)"
   ]
  },
  {
   "cell_type": "code",
   "execution_count": 2,
   "id": "90540709-3a11-4345-930b-20762894c40f",
   "metadata": {},
   "outputs": [
    {
     "name": "stdout",
     "output_type": "stream",
     "text": [
      "Toyota\n",
      "Yamaha\n",
      "Sazuki\n",
      "Mahran\n"
     ]
    }
   ],
   "source": [
    "# Q10. creating a list of words and use a for loop to print only the words with more than 5 letters.\n",
    "cars=['Toyota','Yamaha', 'Sazuki','Mahran','Bmw']\n",
    "for car in cars:\n",
    "    if len(car) > 5 :\n",
    "        print(car)"
   ]
  }
 ],
 "metadata": {
  "kernelspec": {
   "display_name": "Python [conda env:base] *",
   "language": "python",
   "name": "conda-base-py"
  },
  "language_info": {
   "codemirror_mode": {
    "name": "ipython",
    "version": 3
   },
   "file_extension": ".py",
   "mimetype": "text/x-python",
   "name": "python",
   "nbconvert_exporter": "python",
   "pygments_lexer": "ipython3",
   "version": "3.12.7"
  }
 },
 "nbformat": 4,
 "nbformat_minor": 5
}
